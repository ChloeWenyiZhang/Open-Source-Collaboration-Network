{
 "cells": [
  {
   "cell_type": "code",
   "execution_count": 12,
   "metadata": {},
   "outputs": [],
   "source": [
    "import pandas as pd\n",
    "import numpy as np\n",
    "from clickhouse_driver import Client\n",
    "import networkx as nx\n",
    "import re\n",
    "import matplotlib\n",
    "matplotlib.use('Agg')\n",
    "import matplotlib.pyplot as plt"
   ]
  },
  {
   "cell_type": "code",
   "execution_count": 31,
   "metadata": {},
   "outputs": [],
   "source": [
    "# 读取npm包相关的数据\n",
    "file_path = \"C:/Users/lenovo/Desktop/2024-05-13-16-54-33_EXPORT_CSV_13529018_459_0.csv\"\n",
    "npm_packages_df = pd.read_csv(file_path)\n",
    "npm_packages_df = npm_packages_df.dropna()"
   ]
  },
  {
   "cell_type": "code",
   "execution_count": 28,
   "metadata": {},
   "outputs": [],
   "source": [
    "## 提取出上述url的owner和repo名对（用以后续爬取贡献信息）\n",
    "def get_owner_repo(url):\n",
    "    # 定义正则表达式模式\n",
    "    pattern = r'\\/([^\\/]+)\\/([^\\/]+)\\.git(?:\\/|$)'\n",
    "    match = re.search(pattern, url)\n",
    "    if match:\n",
    "        # o = match.group(1)\n",
    "        r = match.group(2)\n",
    "        # return o, r       ## 可以返回出来（调用函数时，申明这对变量）\n",
    "        return r\n",
    "    else:\n",
    "        return None, None"
   ]
  },
  {
   "cell_type": "code",
   "execution_count": 40,
   "metadata": {},
   "outputs": [
    {
     "name": "stdout",
     "output_type": "stream",
     "text": [
      "                                   package_id                          name  \\\n",
      "0        67d418e0-5926-43a2-bf77-d8933f0e70ab                 @minta/logger   \n",
      "2        1e8f64b6-6252-46ab-bd81-8225986bf593         @mintapp/ng-bootstrap   \n",
      "4        f9ba3988-cf09-4c36-bae3-29b7829ac85a          @mintblue/sdk-server   \n",
      "5        a76da626-6142-40fd-bdac-00490cf773cb  @mintcity/cardano-dapp-utils   \n",
      "6        6cf7ab27-0e79-4f2b-bcfb-ac8988ad6cee       @mintdevops/odyssey-cli   \n",
      "...                                       ...                           ...   \n",
      "999993   9dc27c82-a43c-4bf0-b969-1b9a06f3fa2f              littlebro-client   \n",
      "999995   0a39f21f-bcff-4ce2-8d16-a487d1b66e55               littlecrocodile   \n",
      "999996   f7c074bf-0314-40fd-be32-6e3fab0fbca4                      littledb   \n",
      "999999   fd05f534-c0d8-4bbb-b326-24d3754ce099                  littlefinger   \n",
      "1000000  f0a51aef-a14b-4903-bed7-8ec61b410fa9                    littlefoot   \n",
      "\n",
      "                 version                                        description  \\\n",
      "0                  1.0.9                                       Minta logger   \n",
      "2        1.0.0-beta.6-v3                          Angular powered Bootstrap   \n",
      "4                  1.2.0                                mintBlue SDK Server   \n",
      "5                  0.1.0  A collection of utilities for frontend dApp de...   \n",
      "6                  1.0.9                                    odyssey =======   \n",
      "...                  ...                                                ...   \n",
      "999993             0.1.4                         Watching you while you nap   \n",
      "999995             1.5.0  Minimal jQuery plugin to share your site on so...   \n",
      "999996             1.0.7                    The littlest key-value database   \n",
      "999999             3.0.1  point, redirect and require node modules from ...   \n",
      "1000000          4.0.0-6                   Footnotes without the footprint.   \n",
      "\n",
      "        repository_type                                     repository_url  \\\n",
      "0                   git  git+https://github.com/kalitas/MintaContentMS.git   \n",
      "2                   git  git+https://github.com/ng-bootstrap/ng-bootstr...   \n",
      "4                   git  git+ssh://git@gitlab.com/mintblue/mintBlue.com...   \n",
      "5                   git  git+https://github.com/Mint-City/cardano-dapp-...   \n",
      "6                   git           git+https://github.com/deyeg/odyssey.git   \n",
      "...                 ...                                                ...   \n",
      "999993              git  git+https://github.com/getupandgo/littlebro-cl...   \n",
      "999995              git  git+https://github.com/JSDesign/littleCrocodil...   \n",
      "999996              git      git+https://github.com/deathbeam/littledb.git   \n",
      "999999              git  git+https://github.com/cmswalker/package-json-...   \n",
      "1000000             git     https://github.com/goblindegook/littlefoot.git   \n",
      "\n",
      "                  license                                           homepage  \\\n",
      "0                     ISC   https://github.com/kalitas/MintaContentMS#readme   \n",
      "2         [object Object]  https://github.com/ng-bootstrap/ng-bootstrap#r...   \n",
      "4                     MIT  https://gitlab.com/mintblue/mintBlue.com/sdk-s...   \n",
      "5        GPL-3.0-or-later  https://github.com/Mint-City/cardano-dapp-util...   \n",
      "6                     MIT                  https://github.com/deyceg/odyssey   \n",
      "...                   ...                                                ...   \n",
      "999993                MIT  https://github.com/getupandgo/littlebro-client...   \n",
      "999995                MIT        https://github.com/JSDesign/littleCrocodile   \n",
      "999996                MIT       https://github.com/deathbeam/littledb#readme   \n",
      "999999                MIT  https://github.com/cmswalker/package-json-comp...   \n",
      "1000000               MIT  https://github.com/goblindegook/littlefoot#readme   \n",
      "\n",
      "                        time             repo_name  \n",
      "0        2022-04-28 12:38:16        MintaContentMS  \n",
      "2        2018-10-09 10:56:10          ng-bootstrap  \n",
      "4        2022-12-07 14:21:59            sdk-server  \n",
      "5        2022-08-03 02:11:02    cardano-dapp-utils  \n",
      "6        2020-03-09 12:49:18               odyssey  \n",
      "...                      ...                   ...  \n",
      "999993   2016-05-09 14:13:15      littlebro-client  \n",
      "999995   2016-01-06 18:59:52       littleCrocodile  \n",
      "999996   2022-01-16 14:10:53              littledb  \n",
      "999999   2018-01-09 06:56:41  package-json-compose  \n",
      "1000000  2021-01-19 18:57:38            littlefoot  \n",
      "\n",
      "[529440 rows x 10 columns]\n"
     ]
    }
   ],
   "source": [
    "## 取得每一行的repo，变成数据框的一整列\n",
    "npm_packages_df[\"repo_name\"] = npm_packages_df[\"repository_url\"].apply(get_owner_repo)\n",
    "print(npm_packages_df)"
   ]
  },
  {
   "cell_type": "code",
   "execution_count": 43,
   "metadata": {},
   "outputs": [],
   "source": [
    "# 读取repo_co相关的数据\n",
    "repo_co_df = pd.read_csv(\"contributors_of_repo.csv\")"
   ]
  },
  {
   "cell_type": "code",
   "execution_count": 50,
   "metadata": {},
   "outputs": [],
   "source": [
    "## 现在我们有了repo_co_df和npm_packages_df两个数据框，他们具有共同的字段repo_name\n",
    "## 因此，我们实际上可以使用类似于数据库的JOIN算子，对他们进行连接，从而形成更大的数据集\n",
    "    ## 我们想从repo_co映射到npm，所以repo_co作为左表，npm作为右表\n",
    "# result = repo_co_df.join(npm_packages_df)\n",
    "reflection_of_repo_to_npm = pd.merge(repo_co_df, npm_packages_df, on=\"repo_name\", how='inner')"
   ]
  },
  {
   "cell_type": "code",
   "execution_count": 52,
   "metadata": {},
   "outputs": [],
   "source": [
    "## 数据集reflection_of_npm_and_repo则表示了从repo到npm的映射\n",
    "reflection_of_repo_to_npm\n",
    "reflection_of_repo_to_npm.to_csv(\"reflection_of_repo_to_npm.csv\")"
   ]
  }
 ],
 "metadata": {
  "kernelspec": {
   "display_name": "base",
   "language": "python",
   "name": "python3"
  },
  "language_info": {
   "codemirror_mode": {
    "name": "ipython",
    "version": 3
   },
   "file_extension": ".py",
   "mimetype": "text/x-python",
   "name": "python",
   "nbconvert_exporter": "python",
   "pygments_lexer": "ipython3",
   "version": "3.10.14"
  }
 },
 "nbformat": 4,
 "nbformat_minor": 2
}
